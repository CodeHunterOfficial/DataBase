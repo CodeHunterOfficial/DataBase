{
  "nbformat": 4,
  "nbformat_minor": 0,
  "metadata": {
    "colab": {
      "provenance": [],
      "authorship_tag": "ABX9TyN+TYkg3LxCLpEEfjUNokhY",
      "include_colab_link": true
    },
    "kernelspec": {
      "name": "python3",
      "display_name": "Python 3"
    },
    "language_info": {
      "name": "python"
    }
  },
  "cells": [
    {
      "cell_type": "markdown",
      "metadata": {
        "id": "view-in-github",
        "colab_type": "text"
      },
      "source": [
        "<a href=\"https://colab.research.google.com/github/CodeHunterOfficial/DataBase/blob/main/%D0%90%D1%80%D0%B0%D0%B1%D0%BE%D0%B2_%D0%9C%D0%9A%D0%B0%D0%B1_1.ipynb\" target=\"_parent\"><img src=\"https://colab.research.google.com/assets/colab-badge.svg\" alt=\"Open In Colab\"/></a>"
      ]
    },
    {
      "cell_type": "markdown",
      "source": [
        "Вариант 1. Создать базу данных детского сада.\n",
        "Описание предметной области.\n",
        "В детском садике 4 группы (младшая, средняя, старшая, подготовительная) со своим воспитателем и нянечкой. В каждой группе несколько детей, у которых учитывается фамилия, имя, возраст и домашний адрес. Кроме этого необходимо создать таблицу дополнительных сведений о ребенке, где будет учитываться имя отчество одного родителя, его место работы, телефон рабочий и домашний.\n",
        "\n",
        "Схема базы данных детского сада на SQLite, которая соответствует описанию предметной области:\n",
        "\n",
        "Таблицы:\n",
        "\n",
        "Группы\n",
        "\n",
        "groupID (primary key)\n",
        "Название группы (младшая, средняя, старшая, подготовительная)\n",
        "ФИО воспитателя\n",
        "ФИО нянечки\n",
        "Дети\n",
        "\n",
        "childID (primary key)\n",
        "Фамилия\n",
        "Имя\n",
        "Возраст\n",
        "Домашний адрес\n",
        "groupID (foreign key, связь с таблицей \"Группы\")\n",
        "Дополнительная информация о ребенке\n",
        "\n",
        "infoID (primary key)\n",
        "Имя отчество родителя\n",
        "Место работы родителя\n",
        "Рабочий телефон родителя\n",
        "Домашний телефон родителя\n",
        "childID (foreign key, связь с таблицей \"Дети\")\n",
        "Связи между таблицами:\n",
        "\n",
        "Одна группа может иметь несколько детей (один-ко-многим)\n",
        "Один ребенок имеет одну запись дополнительной информации (один-к-одному)\n",
        "Пример SQL-запросов для создания этой базы данных:\n"
      ],
      "metadata": {
        "id": "q9t9Kr-Umq5q"
      }
    },
    {
      "cell_type": "code",
      "execution_count": 2,
      "metadata": {
        "id": "eopLCPHyka5i"
      },
      "outputs": [],
      "source": [
        "import sqlite3\n",
        "\n",
        "# Создание базы данных\n",
        "conn = sqlite3.connect('kindergarten.db')\n",
        "c = conn.cursor()\n",
        "\n",
        "# Создание таблиц\n",
        "c.execute('''CREATE TABLE IF NOT EXISTS Groups\n",
        "             (groupID INTEGER PRIMARY KEY,\n",
        "              Group_name TEXT NOT NULL,\n",
        "              Teacher_name TEXT NOT NULL,\n",
        "              Assistant_name TEXT NOT NULL)''')\n",
        "\n",
        "c.execute('''CREATE TABLE IF NOT EXISTS Children\n",
        "             (childID INTEGER PRIMARY KEY,\n",
        "              Surname TEXT NOT NULL,\n",
        "              First_name TEXT NOT NULL,\n",
        "              Age INTEGER NOT NULL,\n",
        "              Home_address TEXT NOT NULL,\n",
        "              groupID INTEGER NOT NULL,\n",
        "              FOREIGN KEY (groupID) REFERENCES Groups(groupID))''')\n",
        "\n",
        "c.execute('''CREATE TABLE IF NOT EXISTS Additional_child_info\n",
        "             (infoID INTEGER PRIMARY KEY,\n",
        "              Parent_name TEXT NOT NULL,\n",
        "              Parent_workplace TEXT NOT NULL,\n",
        "              Parent_work_phone TEXT NOT NULL,\n",
        "              Parent_home_phone TEXT NOT NULL,\n",
        "              childID INTEGER NOT NULL UNIQUE,\n",
        "              FOREIGN KEY (childID) REFERENCES Children(childID))''')\n",
        "\n",
        "conn.commit()\n",
        "\n",
        "# Добавление данных\n",
        "c.execute(\"INSERT INTO Groups (Group_name, Teacher_name, Assistant_name) VALUES (?, ?, ?)\", (\"Младшая\", \"Иванова И.И.\", \"Петрова П.П.\"))\n",
        "c.execute(\"INSERT INTO Groups (Group_name, Teacher_name, Assistant_name) VALUES (?, ?, ?)\", (\"Средняя\", \"Сидорова С.С.\", \"Кузнецова К.К.\"))\n",
        "c.execute(\"INSERT INTO Groups (Group_name, Teacher_name, Assistant_name) VALUES (?, ?, ?)\", (\"Старшая\", \"Николаева Н.Н.\", \"Михайлова М.М.\"))\n",
        "c.execute(\"INSERT INTO Groups (Group_name, Teacher_name, Assistant_name) VALUES (?, ?, ?)\", (\"Подготовительная\", \"Орлова О.О.\", \"Петрова П.П.\"))\n",
        "\n",
        "c.execute(\"INSERT INTO Children (Surname, First_name, Age, Home_address, groupID) VALUES (?, ?, ?, ?, ?)\", (\"Иванов\", \"Иван\", 4, \"ул. Ленина, д. 1, кв. 2\", 1))\n",
        "c.execute(\"INSERT INTO Children (Surname, First_name, Age, Home_address, groupID) VALUES (?, ?, ?, ?, ?)\", (\"Петрова\", \"Мария\", 5, \"ул. Пушкина, д. 3, кв. 4\", 2))\n",
        "c.execute(\"INSERT INTO Children (Surname, First_name, Age, Home_address, groupID) VALUES (?, ?, ?, ?, ?)\", (\"Сидоров\", \"Андрей\", 6, \"ул. Гоголя, д. 5, кв. 6\", 3))\n",
        "c.execute(\"INSERT INTO Children (Surname, First_name, Age, Home_address, groupID) VALUES (?, ?, ?, ?, ?)\", (\"Николаева\", \"Ольга\", 7, \"ул. Достоевского, д. 7, кв. 8\", 4))\n",
        "\n",
        "c.execute(\"INSERT INTO Additional_child_info (Parent_name, Parent_workplace, Parent_work_phone, Parent_home_phone, childID) VALUES (?, ?, ?, ?, ?)\", (\"Иванов И.И.\", \"ОАО 'Завод'\", \"+7(123)456-78-90\", \"+7(987)654-32-10\", 1))\n",
        "c.execute(\"INSERT INTO Additional_child_info (Parent_name, Parent_workplace, Parent_work_phone, Parent_home_phone, childID) VALUES (?, ?, ?, ?, ?)\", (\"Петрова М.М.\", \"ООО 'Офис'\", \"+7(098)765-43-21\", \"+7(876)543-21-09\", 2))\n",
        "c.execute(\"INSERT INTO Additional_child_info (Parent_name, Parent_workplace, Parent_work_phone, Parent_home_phone, childID) VALUES (?, ?, ?, ?, ?)\", (\"Сидоров С.С.\", \"ИП 'Магазин'\", \"+7(567)890-12-34\", \"+7(345)678-90-12\", 3))\n",
        "c.execute(\"INSERT INTO Additional_child_info (Parent_name, Parent_workplace, Parent_work_phone, Parent_home_phone, childID) VALUES (?, ?, ?, ?, ?)\", (\"Николаева Н.Н.\", \"ЗАО 'Больница'\", \"+7(234)567-89-01\", \"+7(456)789-01-23\", 4))\n",
        "\n",
        "conn.commit()\n",
        "\n",
        "# Закрытие соединения с БД\n",
        "conn.close()"
      ]
    }
  ]
}